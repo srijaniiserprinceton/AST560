{
 "cells": [
  {
   "cell_type": "markdown",
   "metadata": {},
   "source": [
    "**Problem 1**"
   ]
  },
  {
   "cell_type": "code",
   "execution_count": 10,
   "metadata": {},
   "outputs": [
    {
     "data": {
      "text/plain": [
       "<matplotlib.legend.Legend at 0x7fe37693ad68>"
      ]
     },
     "execution_count": 10,
     "metadata": {},
     "output_type": "execute_result"
    },
    {
     "data": {
      "image/png": "[encoded data removed]",
      "text/plain": [
       "<Figure size 432x288 with 1 Axes>"
      ]
     },
     "metadata": {},
     "output_type": "display_data"
    }
   ],
   "source": [
    "import numpy as np\n",
    "import matplotlib.pyplot as plt\n",
    "import scipy.integrate as integrate\n",
    "import sys\n",
    "plt.ion()\n",
    "\n",
    "#The essential parameters for the problem\n",
    "N_cells = 200  #the number of cells. \n",
    "N = N_cells+1  #N+1 is the number of cell edges.\n",
    "CFL = 0.1  #CFL number\n",
    "dx = 1.0/N_cells  #grid spacing\n",
    "sig = 0.05  #sigma for the gaussian in the initial function\n",
    "v = 1.0\n",
    "CFL = 0.1\n",
    "dt = CFL*dx/v\n",
    "T = 1/v #Length of domain in code units is 1.0\n",
    "alpha = 4.0  #parameter for defining the MC limited\n",
    "\n",
    "x = np.arange(0,1+dx,dx)  #The cell edges\n",
    "f_avg_arr = np.zeros(N_cells)  #stores N-1 initial cell averaged values\n",
    "f_avg_final = np.zeros(N_cells) #stores N-1 final cell averaged values\n",
    "\n",
    "#function to define the initial closed form profile (non-averaged)\n",
    "def f_init_gaussianonly(x):\n",
    "    return np.exp((-(x-0.3)**2)/(2*(sig**2)))\n",
    "\n",
    "#function constructing the tophat profile\n",
    "def f_init_gauss_tophat(x):\n",
    "    if(x <= 0.6): return f_init_gaussianonly(x)\n",
    "    else:\n",
    "        if(x >= 0.7 and x <= 0.9): return 1.0\n",
    "        else: return 0.0\n",
    "    \n",
    "    return init_profile\n",
    "        \n",
    "#f_avg_arr = f_init_gauss_tophat(x)\n",
    "\n",
    "#function to calculate the cell averaged values before beginning time iterations\n",
    "def f_init_avg(x, f_choice):\n",
    "    for i in range(N-1):  #this is the number of cells\n",
    "        \n",
    "        #averaging the function between cell edges\n",
    "        if (f_choice == 1): f_avg = integrate.quad(f_init_gaussianonly,x[i],x[i+1]) #gaussian profile\n",
    "        else: f_avg = integrate.quad(f_init_gauss_tophat,x[i],x[i+1])   #gaussian and top hat\n",
    "        f_avg_arr[i] = f_avg[0]/dx  #the values are for the cells centered at (x[i]+x[i+1])/2\n",
    " \n",
    "    return f_avg_arr\n",
    "\n",
    "def minmod(x,y):\n",
    "    return 0.5*(np.sign(x) + np.sign(y))*np.minimum(np.abs(x), np.abs(y))\n",
    "        \n",
    "#function to evaluate the flux discretized flux depeding on the choice of scheme \n",
    "def flux_discr(phi, scheme):\n",
    "    phi_jp1 = phi[np.arange(1,N_cells+1,1)%N_cells]\t#making necessary adjustments to \n",
    "    phi_jm1 = phi[np.arange(-1,N_cells-1,1)%N_cells]\t#enforce the periodic B.C\n",
    "    phi_jm2 = phi[np.arange(-2,N_cells-2,1)%N_cells]\n",
    "\n",
    "    #second order centered\n",
    "    if(scheme == 1): flux = -v*(phi_jp1 - phi_jm1)/(2*dx)\n",
    "    #first order upwind\n",
    "    elif(scheme == 2): flux = -v*(phi - phi_jm1)/dx\n",
    "    #third order upwind biased\n",
    "    elif(scheme == 3): flux = -v*(phi/2.0 + phi_jp1/3.0 - phi_jm1 + phi_jm2/6.0)/dx\n",
    "        \n",
    "    elif(scheme == 4):\n",
    "        phi_jp1_MP = phi + minmod(phi_jp1 - phi, alpha*(phi - phi_jm1))\n",
    "        phi_jm1_MP = phi_jm1 + minmod(phi - phi_jm1, alpha*(phi_jm1 - phi_jm2))\n",
    "        \n",
    "        phi_jp1_3u = (5.0/6.0)*phi + (1.0/3.0)*phi_jp1 - (1.0/6.0)*phi_jm1\n",
    "        phi_jm1_3u = (5.0/6.0)*phi_jm1 + (1.0/3.0)*phi - (1.0/6.0)*phi_jm2\n",
    "        \n",
    "        phi_jphalf_MC = phi + minmod(phi_jp1_3u - phi, phi_jp1_MP - phi) \n",
    "        phi_jmhalf_MC = phi_jm1 + minmod(phi_jm1_3u - phi_jm1, phi_jm1_MP - phi_jm1)\n",
    "        \n",
    "        flux = -v*(phi_jphalf_MC - phi_jmhalf_MC)/dx\n",
    "        \n",
    "    else: \n",
    "        print('Wrong choice!')\n",
    "        sys.exit()\n",
    "        \n",
    "    return flux\n",
    "\n",
    "#time stepping\n",
    "def ssprk3(phi,scheme):\n",
    "    t = 0\n",
    "    while(t<T):\n",
    "        phi_np1 = np.zeros(len(phi))\n",
    "        phi1 = np.zeros(len(phi))\n",
    "        phi2 = np.zeros(len(phi))\n",
    "        \n",
    "        phi1 = phi + dt*flux_discr(phi,scheme)\n",
    "\n",
    "        phi2 = 0.75*phi + 0.25*(phi1 + dt*flux_discr(phi1,scheme))\n",
    "        \n",
    "        phi_np1 = (1.0/3.0)*phi + (2.0/3.0)*(phi2 + dt*flux_discr(phi2,scheme))\n",
    "        phi = phi_np1  ##reassigning phi with the phi at next time step\n",
    "        \n",
    "        t += dt\n",
    "        \n",
    "    return phi\n",
    "    \n",
    "#calculating the cell averages\n",
    "f_avg_arr = f_init_avg(x,2)\n",
    "\n",
    "#obtaining the final time step result\n",
    "f_avg_final = ssprk3(f_avg_arr,2)\n",
    "\n",
    "#plotting and comparing the initial and final results after one full period\n",
    "plt.plot(x[1:]-0.5*dx,f_avg_arr,label='Initial profile')  #plotting the initial profile\n",
    "plt.plot(x[1:]-0.5*dx,f_avg_final,label='After one period')  #plotting the final profile\n",
    "plt.ylim([-0.5,1.5])\n",
    "plt.xlim([0,1])\n",
    "plt.legend()\n",
    "#plt.title('Second order centered, SSPRK3, CFL = 0.1')"
   ]
  },
  {
   "cell_type": "code",
   "execution_count": 30,
   "metadata": {},
   "outputs": [
    {
     "data": {
      "text/plain": [
       "0.001"
      ]
     },
     "execution_count": 30,
     "metadata": {},
     "output_type": "execute_result"
    }
   ],
   "source": [
    "dt"
   ]
  },
  {
   "cell_type": "code",
   "execution_count": null,
   "metadata": {},
   "outputs": [],
   "source": []
  }
 ],
 "metadata": {
  "kernelspec": {
   "display_name": "Python 3",
   "language": "python",
   "name": "python3"
  },
  "language_info": {
   "codemirror_mode": {
    "name": "ipython",
    "version": 3
   },
   "file_extension": ".py",
   "mimetype": "text/x-python",
   "name": "python",
   "nbconvert_exporter": "python",
   "pygments_lexer": "ipython3",
   "version": "3.6.5"
  }
 },
 "nbformat": 4,
 "nbformat_minor": 2
}
