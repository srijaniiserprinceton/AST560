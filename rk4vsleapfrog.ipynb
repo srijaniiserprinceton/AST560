{
 "cells": [
  {
   "cell_type": "code",
   "execution_count": 4,
   "metadata": {},
   "outputs": [
    {
     "data": {
      "text/plain": [
       "[<matplotlib.lines.Line2D at 0x7f0323867438>]"
      ]
     },
     "execution_count": 4,
     "metadata": {},
     "output_type": "execute_result"
    },
    {
     "data": {
      "image/png": "[encoded data removed]",
      "text/plain": [
       "<Figure size 432x288 with 1 Axes>"
      ]
     },
     "metadata": {},
     "output_type": "display_data"
    }
   ],
   "source": [
    "import numpy as np\n",
    "import matplotlib.pyplot as plt\n",
    "plt.ion()\n",
    "\n",
    "Nsteps = 1000000  #the total number of time steps\n",
    "h = 1e-3  #time stepping interval value\n",
    "\n",
    "#creating arrays to store the values of p and q\n",
    "q = np.zeros(Nsteps)\n",
    "p = np.zeros(Nsteps)\n",
    "\n",
    "#variables to store temporary values during calculations\n",
    "q_temp = 0\n",
    "p_temp = 0\n",
    "\n",
    "#initial value of p\n",
    "p[0] = 5.0\n",
    "\n",
    "#shifting the p to half time steps by an initial forward euler.\n",
    "p_temp = p[0] - 0.5*h*q[0]\n",
    "p[0] = p_temp\n",
    "\n",
    "for i in range(1,Nsteps):\n",
    "    #computing the q's \n",
    "    q_temp = q[i-1] + h*p[i-1]\n",
    "    q[i] = q_temp\n",
    "    \n",
    "    #computing the p's\n",
    "    p_temp = p[i-1] - h*q[i]\n",
    "    p[i] = p_temp\n",
    "    \n",
    "plt.plot(q,p,'-k') #a line plot"
   ]
  },
  {
   "cell_type": "code",
   "execution_count": null,
   "metadata": {},
   "outputs": [],
   "source": []
  }
 ],
 "metadata": {
  "kernelspec": {
   "display_name": "Python 3",
   "language": "python",
   "name": "python3"
  },
  "language_info": {
   "codemirror_mode": {
    "name": "ipython",
    "version": 3
   },
   "file_extension": ".py",
   "mimetype": "text/x-python",
   "name": "python",
   "nbconvert_exporter": "python",
   "pygments_lexer": "ipython3",
   "version": "3.6.5"
  }
 },
 "nbformat": 4,
 "nbformat_minor": 2
}
